{
  "nbformat": 4,
  "nbformat_minor": 0,
  "metadata": {
    "colab": {
      "provenance": [],
      "include_colab_link": true
    },
    "kernelspec": {
      "name": "python3",
      "display_name": "Python 3"
    },
    "language_info": {
      "name": "python"
    }
  },
  "cells": [
    {
      "cell_type": "markdown",
      "metadata": {
        "id": "view-in-github",
        "colab_type": "text"
      },
      "source": [
        "<a href=\"https://colab.research.google.com/github/NotYael/book-classifier-ml/blob/main/180_Final_Project_Martinez%2C_Dela_Cruz.ipynb\" target=\"_parent\"><img src=\"https://colab.research.google.com/assets/colab-badge.svg\" alt=\"Open In Colab\"/></a>"
      ]
    },
    {
      "cell_type": "markdown",
      "source": [
        "# **Importing Modules and Data**"
      ],
      "metadata": {
        "id": "1vc9yMR-ZjE-"
      }
    },
    {
      "cell_type": "code",
      "source": [
        "%pip install scikit-plot\n",
        "%pip install scipy==1.7.3"
      ],
      "metadata": {
        "colab": {
          "base_uri": "https://localhost:8080/"
        },
        "id": "wux4Pbjb_LWl",
        "outputId": "1c949204-f4d9-476c-9fdb-fb385533dd44"
      },
      "execution_count": null,
      "outputs": [
        {
          "output_type": "stream",
          "name": "stdout",
          "text": [
            "Requirement already satisfied: scikit-plot in /usr/local/lib/python3.10/dist-packages (0.3.7)\n",
            "Requirement already satisfied: matplotlib>=1.4.0 in /usr/local/lib/python3.10/dist-packages (from scikit-plot) (3.7.1)\n",
            "Requirement already satisfied: scikit-learn>=0.18 in /usr/local/lib/python3.10/dist-packages (from scikit-plot) (1.5.2)\n",
            "Requirement already satisfied: scipy>=0.9 in /usr/local/lib/python3.10/dist-packages (from scikit-plot) (1.7.3)\n",
            "Requirement already satisfied: joblib>=0.10 in /usr/local/lib/python3.10/dist-packages (from scikit-plot) (1.4.2)\n",
            "Requirement already satisfied: contourpy>=1.0.1 in /usr/local/lib/python3.10/dist-packages (from matplotlib>=1.4.0->scikit-plot) (1.3.0)\n",
            "Requirement already satisfied: cycler>=0.10 in /usr/local/lib/python3.10/dist-packages (from matplotlib>=1.4.0->scikit-plot) (0.12.1)\n",
            "Requirement already satisfied: fonttools>=4.22.0 in /usr/local/lib/python3.10/dist-packages (from matplotlib>=1.4.0->scikit-plot) (4.53.1)\n",
            "Requirement already satisfied: kiwisolver>=1.0.1 in /usr/local/lib/python3.10/dist-packages (from matplotlib>=1.4.0->scikit-plot) (1.4.7)\n",
            "Requirement already satisfied: numpy>=1.20 in /usr/local/lib/python3.10/dist-packages (from matplotlib>=1.4.0->scikit-plot) (1.22.4)\n",
            "Requirement already satisfied: packaging>=20.0 in /usr/local/lib/python3.10/dist-packages (from matplotlib>=1.4.0->scikit-plot) (24.1)\n",
            "Requirement already satisfied: pillow>=6.2.0 in /usr/local/lib/python3.10/dist-packages (from matplotlib>=1.4.0->scikit-plot) (10.4.0)\n",
            "Requirement already satisfied: pyparsing>=2.3.1 in /usr/local/lib/python3.10/dist-packages (from matplotlib>=1.4.0->scikit-plot) (3.1.4)\n",
            "Requirement already satisfied: python-dateutil>=2.7 in /usr/local/lib/python3.10/dist-packages (from matplotlib>=1.4.0->scikit-plot) (2.8.2)\n",
            "Requirement already satisfied: threadpoolctl>=3.1.0 in /usr/local/lib/python3.10/dist-packages (from scikit-learn>=0.18->scikit-plot) (3.5.0)\n",
            "INFO: pip is looking at multiple versions of contourpy to determine which version is compatible with other requirements. This could take a while.\n",
            "Collecting contourpy>=1.0.1 (from matplotlib>=1.4.0->scikit-plot)\n",
            "  Downloading contourpy-1.2.1-cp310-cp310-manylinux_2_17_x86_64.manylinux2014_x86_64.whl.metadata (5.8 kB)\n",
            "Requirement already satisfied: six>=1.5 in /usr/local/lib/python3.10/dist-packages (from python-dateutil>=2.7->matplotlib>=1.4.0->scikit-plot) (1.16.0)\n",
            "Downloading contourpy-1.2.1-cp310-cp310-manylinux_2_17_x86_64.manylinux2014_x86_64.whl (305 kB)\n",
            "\u001b[2K   \u001b[90m━━━━━━━━━━━━━━━━━━━━━━━━━━━━━━━━━━━━━━━━\u001b[0m \u001b[32m305.2/305.2 kB\u001b[0m \u001b[31m4.7 MB/s\u001b[0m eta \u001b[36m0:00:00\u001b[0m\n",
            "\u001b[?25hInstalling collected packages: contourpy\n",
            "  Attempting uninstall: contourpy\n",
            "    Found existing installation: contourpy 1.3.0\n",
            "    Uninstalling contourpy-1.3.0:\n",
            "      Successfully uninstalled contourpy-1.3.0\n",
            "\u001b[31mERROR: pip's dependency resolver does not currently take into account all the packages that are installed. This behaviour is the source of the following dependency conflicts.\n",
            "plotnine 0.13.6 requires numpy>=1.23.0, but you have numpy 1.22.4 which is incompatible.\u001b[0m\u001b[31m\n",
            "\u001b[0mSuccessfully installed contourpy-1.2.1\n",
            "Requirement already satisfied: scipy==1.7.3 in /usr/local/lib/python3.10/dist-packages (1.7.3)\n",
            "Requirement already satisfied: numpy<1.23.0,>=1.16.5 in /usr/local/lib/python3.10/dist-packages (from scipy==1.7.3) (1.22.4)\n"
          ]
        }
      ]
    },
    {
      "cell_type": "code",
      "execution_count": null,
      "metadata": {
        "id": "KFluLsjXLitm",
        "colab": {
          "base_uri": "https://localhost:8080/",
          "height": 108
        },
        "outputId": "d9a18032-2cda-431b-fa35-a229ab994a90"
      },
      "outputs": [
        {
          "output_type": "error",
          "ename": "RuntimeError",
          "evalue": "module was compiled against NumPy C-API version 0x10 (NumPy 1.23) but the running NumPy has C-API version 0xf. Check the section C-API incompatibility at the Troubleshooting ImportError section at https://numpy.org/devdocs/user/troubleshooting-importerror.html#c-api-incompatibility for indications on how to solve this problem.",
          "traceback": [
            "\u001b[0;31m---------------------------------------------------------------------------\u001b[0m",
            "\u001b[0;31mRuntimeError\u001b[0m                              Traceback (most recent call last)",
            "\u001b[0;31mRuntimeError\u001b[0m: module was compiled against NumPy C-API version 0x10 (NumPy 1.23) but the running NumPy has C-API version 0xf. Check the section C-API incompatibility at the Troubleshooting ImportError section at https://numpy.org/devdocs/user/troubleshooting-importerror.html#c-api-incompatibility for indications on how to solve this problem."
          ]
        }
      ],
      "source": [
        "# import modules\n",
        "\n",
        "import pandas as pd\n",
        "import numpy as np\n",
        "import matplotlib.pyplot as plt"
      ]
    },
    {
      "cell_type": "code",
      "source": [
        "# get csv from drive\n",
        "path = 'https://drive.google.com/file/d/1lzegauMXZQDesg7BPKRI2FiBzzZjv1YP/view?usp=sharing'\n",
        "path = 'https://drive.google.com/uc?id=' + path.split('/')[-2]\n",
        "books = pd.read_csv(path, sep = \",\").set_index('index')"
      ],
      "metadata": {
        "id": "e0mUIYrFSGSO"
      },
      "execution_count": null,
      "outputs": []
    },
    {
      "cell_type": "markdown",
      "source": [
        "# **Data Exploration**"
      ],
      "metadata": {
        "id": "fJUu4D9UVZRi"
      }
    },
    {
      "cell_type": "code",
      "source": [
        "# examine the first few rows of data\n",
        "books.head(10)"
      ],
      "metadata": {
        "colab": {
          "base_uri": "https://localhost:8080/",
          "height": 394
        },
        "collapsed": true,
        "id": "KQQa-wlrUM-i",
        "outputId": "833bfaa0-6318-45b9-aba9-ccb4cc4f7768"
      },
      "execution_count": null,
      "outputs": [
        {
          "output_type": "execute_result",
          "data": {
            "text/plain": [
              "                            title    genre  \\\n",
              "index                                        \n",
              "0               Drowned Wednesday  fantasy   \n",
              "1                   The Lost Hero  fantasy   \n",
              "2       The Eyes of the Overworld  fantasy   \n",
              "3                 Magic's Promise  fantasy   \n",
              "4                  Taran Wanderer  fantasy   \n",
              "5                  Thendara House  fantasy   \n",
              "6                       The Thief  fantasy   \n",
              "7             The Sweet Far Thing  fantasy   \n",
              "8      Mistborn: The Final Empire  fantasy   \n",
              "9             The Sorcerer's Ship  fantasy   \n",
              "\n",
              "                                                 summary  \n",
              "index                                                     \n",
              "0       Drowned Wednesday is the first Trustee among ...  \n",
              "1       As the book opens, Jason awakens on a school ...  \n",
              "2       Cugel is easily persuaded by the merchant Fia...  \n",
              "3       The book opens with Herald-Mage Vanyel return...  \n",
              "4       Taran and Gurgi have returned to Caer Dallben...  \n",
              "5       The novel concerns the dwelling of the Darkov...  \n",
              "6       Gen is released from prison by the magus, the...  \n",
              "7       The prologue begins with two men who are sear...  \n",
              "8       In Luthadel, the capital city of the Final Em...  \n",
              "9       A man named Gene finds himself cast into a ne...  "
            ],
            "text/html": [
              "\n",
              "  <div id=\"df-b6288efa-b4c2-441a-a719-5358e7e1e4a2\" class=\"colab-df-container\">\n",
              "    <div>\n",
              "<style scoped>\n",
              "    .dataframe tbody tr th:only-of-type {\n",
              "        vertical-align: middle;\n",
              "    }\n",
              "\n",
              "    .dataframe tbody tr th {\n",
              "        vertical-align: top;\n",
              "    }\n",
              "\n",
              "    .dataframe thead th {\n",
              "        text-align: right;\n",
              "    }\n",
              "</style>\n",
              "<table border=\"1\" class=\"dataframe\">\n",
              "  <thead>\n",
              "    <tr style=\"text-align: right;\">\n",
              "      <th></th>\n",
              "      <th>title</th>\n",
              "      <th>genre</th>\n",
              "      <th>summary</th>\n",
              "    </tr>\n",
              "    <tr>\n",
              "      <th>index</th>\n",
              "      <th></th>\n",
              "      <th></th>\n",
              "      <th></th>\n",
              "    </tr>\n",
              "  </thead>\n",
              "  <tbody>\n",
              "    <tr>\n",
              "      <th>0</th>\n",
              "      <td>Drowned Wednesday</td>\n",
              "      <td>fantasy</td>\n",
              "      <td>Drowned Wednesday is the first Trustee among ...</td>\n",
              "    </tr>\n",
              "    <tr>\n",
              "      <th>1</th>\n",
              "      <td>The Lost Hero</td>\n",
              "      <td>fantasy</td>\n",
              "      <td>As the book opens, Jason awakens on a school ...</td>\n",
              "    </tr>\n",
              "    <tr>\n",
              "      <th>2</th>\n",
              "      <td>The Eyes of the Overworld</td>\n",
              "      <td>fantasy</td>\n",
              "      <td>Cugel is easily persuaded by the merchant Fia...</td>\n",
              "    </tr>\n",
              "    <tr>\n",
              "      <th>3</th>\n",
              "      <td>Magic's Promise</td>\n",
              "      <td>fantasy</td>\n",
              "      <td>The book opens with Herald-Mage Vanyel return...</td>\n",
              "    </tr>\n",
              "    <tr>\n",
              "      <th>4</th>\n",
              "      <td>Taran Wanderer</td>\n",
              "      <td>fantasy</td>\n",
              "      <td>Taran and Gurgi have returned to Caer Dallben...</td>\n",
              "    </tr>\n",
              "    <tr>\n",
              "      <th>5</th>\n",
              "      <td>Thendara House</td>\n",
              "      <td>fantasy</td>\n",
              "      <td>The novel concerns the dwelling of the Darkov...</td>\n",
              "    </tr>\n",
              "    <tr>\n",
              "      <th>6</th>\n",
              "      <td>The Thief</td>\n",
              "      <td>fantasy</td>\n",
              "      <td>Gen is released from prison by the magus, the...</td>\n",
              "    </tr>\n",
              "    <tr>\n",
              "      <th>7</th>\n",
              "      <td>The Sweet Far Thing</td>\n",
              "      <td>fantasy</td>\n",
              "      <td>The prologue begins with two men who are sear...</td>\n",
              "    </tr>\n",
              "    <tr>\n",
              "      <th>8</th>\n",
              "      <td>Mistborn: The Final Empire</td>\n",
              "      <td>fantasy</td>\n",
              "      <td>In Luthadel, the capital city of the Final Em...</td>\n",
              "    </tr>\n",
              "    <tr>\n",
              "      <th>9</th>\n",
              "      <td>The Sorcerer's Ship</td>\n",
              "      <td>fantasy</td>\n",
              "      <td>A man named Gene finds himself cast into a ne...</td>\n",
              "    </tr>\n",
              "  </tbody>\n",
              "</table>\n",
              "</div>\n",
              "    <div class=\"colab-df-buttons\">\n",
              "      \n",
              "  <div class=\"colab-df-container\">\n",
              "    <button class=\"colab-df-convert\" onclick=\"convertToInteractive('df-b6288efa-b4c2-441a-a719-5358e7e1e4a2')\"\n",
              "            title=\"Convert this dataframe to an interactive table.\"\n",
              "            style=\"display:none;\">\n",
              "      \n",
              "  <svg xmlns=\"http://www.w3.org/2000/svg\" height=\"24px\" viewBox=\"0 -960 960 960\">\n",
              "    <path d=\"M120-120v-720h720v720H120Zm60-500h600v-160H180v160Zm220 220h160v-160H400v160Zm0 220h160v-160H400v160ZM180-400h160v-160H180v160Zm440 0h160v-160H620v160ZM180-180h160v-160H180v160Zm440 0h160v-160H620v160Z\"/>\n",
              "  </svg>\n",
              "    </button>\n",
              "    \n",
              "  <style>\n",
              "    .colab-df-container {\n",
              "      display:flex;\n",
              "      gap: 12px;\n",
              "    }\n",
              "\n",
              "    .colab-df-convert {\n",
              "      background-color: #E8F0FE;\n",
              "      border: none;\n",
              "      border-radius: 50%;\n",
              "      cursor: pointer;\n",
              "      display: none;\n",
              "      fill: #1967D2;\n",
              "      height: 32px;\n",
              "      padding: 0 0 0 0;\n",
              "      width: 32px;\n",
              "    }\n",
              "\n",
              "    .colab-df-convert:hover {\n",
              "      background-color: #E2EBFA;\n",
              "      box-shadow: 0px 1px 2px rgba(60, 64, 67, 0.3), 0px 1px 3px 1px rgba(60, 64, 67, 0.15);\n",
              "      fill: #174EA6;\n",
              "    }\n",
              "\n",
              "    .colab-df-buttons div {\n",
              "      margin-bottom: 4px;\n",
              "    }\n",
              "\n",
              "    [theme=dark] .colab-df-convert {\n",
              "      background-color: #3B4455;\n",
              "      fill: #D2E3FC;\n",
              "    }\n",
              "\n",
              "    [theme=dark] .colab-df-convert:hover {\n",
              "      background-color: #434B5C;\n",
              "      box-shadow: 0px 1px 3px 1px rgba(0, 0, 0, 0.15);\n",
              "      filter: drop-shadow(0px 1px 2px rgba(0, 0, 0, 0.3));\n",
              "      fill: #FFFFFF;\n",
              "    }\n",
              "  </style>\n",
              "\n",
              "    <script>\n",
              "      const buttonEl =\n",
              "        document.querySelector('#df-b6288efa-b4c2-441a-a719-5358e7e1e4a2 button.colab-df-convert');\n",
              "      buttonEl.style.display =\n",
              "        google.colab.kernel.accessAllowed ? 'block' : 'none';\n",
              "\n",
              "      async function convertToInteractive(key) {\n",
              "        const element = document.querySelector('#df-b6288efa-b4c2-441a-a719-5358e7e1e4a2');\n",
              "        const dataTable =\n",
              "          await google.colab.kernel.invokeFunction('convertToInteractive',\n",
              "                                                    [key], {});\n",
              "        if (!dataTable) return;\n",
              "\n",
              "        const docLinkHtml = 'Like what you see? Visit the ' +\n",
              "          '<a target=\"_blank\" href=https://colab.research.google.com/notebooks/data_table.ipynb>data table notebook</a>'\n",
              "          + ' to learn more about interactive tables.';\n",
              "        element.innerHTML = '';\n",
              "        dataTable['output_type'] = 'display_data';\n",
              "        await google.colab.output.renderOutput(dataTable, element);\n",
              "        const docLink = document.createElement('div');\n",
              "        docLink.innerHTML = docLinkHtml;\n",
              "        element.appendChild(docLink);\n",
              "      }\n",
              "    </script>\n",
              "  </div>\n",
              "  \n",
              "    </div>\n",
              "  </div>\n",
              "  "
            ]
          },
          "metadata": {},
          "execution_count": 4
        }
      ]
    },
    {
      "cell_type": "code",
      "source": [
        "# check num of rows and cols\n",
        "books.shape"
      ],
      "metadata": {
        "colab": {
          "base_uri": "https://localhost:8080/"
        },
        "id": "NRyTcc0sVCXJ",
        "outputId": "22729d51-3e79-49fd-8c15-28f00b990166"
      },
      "execution_count": null,
      "outputs": [
        {
          "output_type": "execute_result",
          "data": {
            "text/plain": [
              "(4657, 3)"
            ]
          },
          "metadata": {},
          "execution_count": 5
        }
      ]
    },
    {
      "cell_type": "code",
      "source": [
        "# check for null values\n",
        "books.isnull().sum()"
      ],
      "metadata": {
        "colab": {
          "base_uri": "https://localhost:8080/",
          "height": 178
        },
        "id": "FH9fTR4IVXzo",
        "outputId": "7a9a7125-260d-4759-96f1-8b437bc5c28f"
      },
      "execution_count": null,
      "outputs": [
        {
          "output_type": "execute_result",
          "data": {
            "text/plain": [
              "title      0\n",
              "genre      0\n",
              "summary    0\n",
              "dtype: int64"
            ],
            "text/html": [
              "<div>\n",
              "<style scoped>\n",
              "    .dataframe tbody tr th:only-of-type {\n",
              "        vertical-align: middle;\n",
              "    }\n",
              "\n",
              "    .dataframe tbody tr th {\n",
              "        vertical-align: top;\n",
              "    }\n",
              "\n",
              "    .dataframe thead th {\n",
              "        text-align: right;\n",
              "    }\n",
              "</style>\n",
              "<table border=\"1\" class=\"dataframe\">\n",
              "  <thead>\n",
              "    <tr style=\"text-align: right;\">\n",
              "      <th></th>\n",
              "      <th>0</th>\n",
              "    </tr>\n",
              "  </thead>\n",
              "  <tbody>\n",
              "    <tr>\n",
              "      <th>title</th>\n",
              "      <td>0</td>\n",
              "    </tr>\n",
              "    <tr>\n",
              "      <th>genre</th>\n",
              "      <td>0</td>\n",
              "    </tr>\n",
              "    <tr>\n",
              "      <th>summary</th>\n",
              "      <td>0</td>\n",
              "    </tr>\n",
              "  </tbody>\n",
              "</table>\n",
              "</div><br><label><b>dtype:</b> int64</label>"
            ]
          },
          "metadata": {},
          "execution_count": 6
        }
      ]
    },
    {
      "cell_type": "code",
      "source": [
        "# check number of classes and their distributions\n",
        "books['genre'].value_counts()"
      ],
      "metadata": {
        "colab": {
          "base_uri": "https://localhost:8080/",
          "height": 429
        },
        "id": "t9scKuJxV10h",
        "outputId": "ffc0f3aa-4885-46b6-f3f6-61088d246da7"
      },
      "execution_count": null,
      "outputs": [
        {
          "output_type": "execute_result",
          "data": {
            "text/plain": [
              "genre\n",
              "thriller      1023\n",
              "fantasy        876\n",
              "science        647\n",
              "history        600\n",
              "horror         600\n",
              "crime          500\n",
              "romance        111\n",
              "psychology     100\n",
              "sports         100\n",
              "travel         100\n",
              "Name: count, dtype: int64"
            ],
            "text/html": [
              "<div>\n",
              "<style scoped>\n",
              "    .dataframe tbody tr th:only-of-type {\n",
              "        vertical-align: middle;\n",
              "    }\n",
              "\n",
              "    .dataframe tbody tr th {\n",
              "        vertical-align: top;\n",
              "    }\n",
              "\n",
              "    .dataframe thead th {\n",
              "        text-align: right;\n",
              "    }\n",
              "</style>\n",
              "<table border=\"1\" class=\"dataframe\">\n",
              "  <thead>\n",
              "    <tr style=\"text-align: right;\">\n",
              "      <th></th>\n",
              "      <th>count</th>\n",
              "    </tr>\n",
              "    <tr>\n",
              "      <th>genre</th>\n",
              "      <th></th>\n",
              "    </tr>\n",
              "  </thead>\n",
              "  <tbody>\n",
              "    <tr>\n",
              "      <th>thriller</th>\n",
              "      <td>1023</td>\n",
              "    </tr>\n",
              "    <tr>\n",
              "      <th>fantasy</th>\n",
              "      <td>876</td>\n",
              "    </tr>\n",
              "    <tr>\n",
              "      <th>science</th>\n",
              "      <td>647</td>\n",
              "    </tr>\n",
              "    <tr>\n",
              "      <th>history</th>\n",
              "      <td>600</td>\n",
              "    </tr>\n",
              "    <tr>\n",
              "      <th>horror</th>\n",
              "      <td>600</td>\n",
              "    </tr>\n",
              "    <tr>\n",
              "      <th>crime</th>\n",
              "      <td>500</td>\n",
              "    </tr>\n",
              "    <tr>\n",
              "      <th>romance</th>\n",
              "      <td>111</td>\n",
              "    </tr>\n",
              "    <tr>\n",
              "      <th>psychology</th>\n",
              "      <td>100</td>\n",
              "    </tr>\n",
              "    <tr>\n",
              "      <th>sports</th>\n",
              "      <td>100</td>\n",
              "    </tr>\n",
              "    <tr>\n",
              "      <th>travel</th>\n",
              "      <td>100</td>\n",
              "    </tr>\n",
              "  </tbody>\n",
              "</table>\n",
              "</div><br><label><b>dtype:</b> int64</label>"
            ]
          },
          "metadata": {},
          "execution_count": 7
        }
      ]
    },
    {
      "cell_type": "code",
      "source": [
        "# plot the distribution as a bar chart for easier visualization\n",
        "books['genre'].value_counts().plot(kind = 'bar', title = 'Genres')"
      ],
      "metadata": {
        "colab": {
          "base_uri": "https://localhost:8080/",
          "height": 554
        },
        "id": "rYqJylOajUiv",
        "outputId": "c5af54be-fcfb-47a9-cb78-3ec2cd793edb"
      },
      "execution_count": null,
      "outputs": [
        {
          "output_type": "execute_result",
          "data": {
            "text/plain": [
              "<Axes: title={'center': 'Genres'}, xlabel='genre'>"
            ]
          },
          "metadata": {},
          "execution_count": 8
        },
        {
          "output_type": "display_data",
          "data": {
            "text/plain": [
              "<Figure size 640x480 with 1 Axes>"
            ],
            "image/png": "[encoded data removed]"
          },
          "metadata": {}
        }
      ]
    },
    {
      "cell_type": "markdown",
      "source": [
        "We see that there is a noticeable imbalance in the data. We'll have to make sure to include samples of the minorities in all of the sets after splitting later."
      ],
      "metadata": {
        "id": "ccTkrDJLdAXz"
      }
    },
    {
      "cell_type": "markdown",
      "source": [
        "# **Pre-Processing**"
      ],
      "metadata": {
        "id": "GGuJWaYnp56x"
      }
    },
    {
      "cell_type": "markdown",
      "source": [
        "*Remove Non-English Entries*"
      ],
      "metadata": {
        "id": "iRzHnhct_Rrc"
      }
    },
    {
      "cell_type": "code",
      "source": [
        "books.shape"
      ],
      "metadata": {
        "colab": {
          "base_uri": "https://localhost:8080/"
        },
        "id": "fO3u0TMnIOlS",
        "outputId": "fa4d800a-6c90-4be7-d7a6-3aecf925dea1"
      },
      "execution_count": null,
      "outputs": [
        {
          "output_type": "execute_result",
          "data": {
            "text/plain": [
              "(4657, 3)"
            ]
          },
          "metadata": {},
          "execution_count": 9
        }
      ]
    },
    {
      "cell_type": "code",
      "source": [
        "!pip install langid"
      ],
      "metadata": {
        "colab": {
          "base_uri": "https://localhost:8080/"
        },
        "id": "K6JUrGAMtq4U",
        "outputId": "f151657e-b893-4c6a-f5d8-3fb7f0b45a0a"
      },
      "execution_count": null,
      "outputs": [
        {
          "output_type": "stream",
          "name": "stdout",
          "text": [
            "Requirement already satisfied: langid in /usr/local/lib/python3.10/dist-packages (1.1.6)\n",
            "Requirement already satisfied: numpy in /usr/local/lib/python3.10/dist-packages (from langid) (1.22.4)\n"
          ]
        }
      ]
    },
    {
      "cell_type": "code",
      "source": [
        "from langid import classify\n",
        "\n",
        "# Language Identification function\n",
        "def identify_language(text):\n",
        "    lang, _ = classify(text)\n",
        "    return lang\n",
        "\n",
        "# Applying the function to the dataset\n",
        "books['language'] = books['summary'].apply(identify_language)\n",
        "\n",
        "books.sample(10)"
      ],
      "metadata": {
        "id": "E2eHsi5btMgM",
        "colab": {
          "base_uri": "https://localhost:8080/",
          "height": 394
        },
        "outputId": "08c284d5-2050-4517-8185-b97d9c885ec7"
      },
      "execution_count": null,
      "outputs": [
        {
          "output_type": "execute_result",
          "data": {
            "text/plain": [
              "                                  title     genre  \\\n",
              "index                                               \n",
              "198                            Chocolat   fantasy   \n",
              "3804                           Personal  thriller   \n",
              "1642                     Iceland's Bell   history   \n",
              "1054                   Disordered Minds     crime   \n",
              "819                 Pattern Recognition   science   \n",
              "4576   Alice's Adventures in Wonderland   fantasy   \n",
              "2273           The Dark Cry of the Moon    horror   \n",
              "1477                       Orange Crush     crime   \n",
              "499                          Troll Fell   fantasy   \n",
              "669                Eyes of the Calculor   science   \n",
              "\n",
              "                                                 summary language  \n",
              "index                                                              \n",
              "198     The story begins as two strangers, Vianne Roc...       en  \n",
              "3804   You can leave the army, but the army doesn’t l...       en  \n",
              "1642    The first part tells the story of Jón Hreggvi...       en  \n",
              "1054    In 1970 Harold Stump, a mentally challenged y...       en  \n",
              "819     Advertising consultant Cayce Pollard, who rea...       en  \n",
              "4576   Chris Riddell's brilliant new full-colour illu...       en  \n",
              "2273    The novel concerns werewolves in the Connecti...       en  \n",
              "1477    Marlon Conrad, a spoiled \"rich kid\", enters t...       en  \n",
              "499     Troll Fell tells the story of young Peer Ulfs...       en  \n",
              "669     Mirrorsun, which orbits earth and prevents el...       en  "
            ],
            "text/html": [
              "\n",
              "  <div id=\"df-0b6b9558-9cd6-4879-bd5d-7a3d007df427\" class=\"colab-df-container\">\n",
              "    <div>\n",
              "<style scoped>\n",
              "    .dataframe tbody tr th:only-of-type {\n",
              "        vertical-align: middle;\n",
              "    }\n",
              "\n",
              "    .dataframe tbody tr th {\n",
              "        vertical-align: top;\n",
              "    }\n",
              "\n",
              "    .dataframe thead th {\n",
              "        text-align: right;\n",
              "    }\n",
              "</style>\n",
              "<table border=\"1\" class=\"dataframe\">\n",
              "  <thead>\n",
              "    <tr style=\"text-align: right;\">\n",
              "      <th></th>\n",
              "      <th>title</th>\n",
              "      <th>genre</th>\n",
              "      <th>summary</th>\n",
              "      <th>language</th>\n",
              "    </tr>\n",
              "    <tr>\n",
              "      <th>index</th>\n",
              "      <th></th>\n",
              "      <th></th>\n",
              "      <th></th>\n",
              "      <th></th>\n",
              "    </tr>\n",
              "  </thead>\n",
              "  <tbody>\n",
              "    <tr>\n",
              "      <th>198</th>\n",
              "      <td>Chocolat</td>\n",
              "      <td>fantasy</td>\n",
              "      <td>The story begins as two strangers, Vianne Roc...</td>\n",
              "      <td>en</td>\n",
              "    </tr>\n",
              "    <tr>\n",
              "      <th>3804</th>\n",
              "      <td>Personal</td>\n",
              "      <td>thriller</td>\n",
              "      <td>You can leave the army, but the army doesn’t l...</td>\n",
              "      <td>en</td>\n",
              "    </tr>\n",
              "    <tr>\n",
              "      <th>1642</th>\n",
              "      <td>Iceland's Bell</td>\n",
              "      <td>history</td>\n",
              "      <td>The first part tells the story of Jón Hreggvi...</td>\n",
              "      <td>en</td>\n",
              "    </tr>\n",
              "    <tr>\n",
              "      <th>1054</th>\n",
              "      <td>Disordered Minds</td>\n",
              "      <td>crime</td>\n",
              "      <td>In 1970 Harold Stump, a mentally challenged y...</td>\n",
              "      <td>en</td>\n",
              "    </tr>\n",
              "    <tr>\n",
              "      <th>819</th>\n",
              "      <td>Pattern Recognition</td>\n",
              "      <td>science</td>\n",
              "      <td>Advertising consultant Cayce Pollard, who rea...</td>\n",
              "      <td>en</td>\n",
              "    </tr>\n",
              "    <tr>\n",
              "      <th>4576</th>\n",
              "      <td>Alice's Adventures in Wonderland</td>\n",
              "      <td>fantasy</td>\n",
              "      <td>Chris Riddell's brilliant new full-colour illu...</td>\n",
              "      <td>en</td>\n",
              "    </tr>\n",
              "    <tr>\n",
              "      <th>2273</th>\n",
              "      <td>The Dark Cry of the Moon</td>\n",
              "      <td>horror</td>\n",
              "      <td>The novel concerns werewolves in the Connecti...</td>\n",
              "      <td>en</td>\n",
              "    </tr>\n",
              "    <tr>\n",
              "      <th>1477</th>\n",
              "      <td>Orange Crush</td>\n",
              "      <td>crime</td>\n",
              "      <td>Marlon Conrad, a spoiled \"rich kid\", enters t...</td>\n",
              "      <td>en</td>\n",
              "    </tr>\n",
              "    <tr>\n",
              "      <th>499</th>\n",
              "      <td>Troll Fell</td>\n",
              "      <td>fantasy</td>\n",
              "      <td>Troll Fell tells the story of young Peer Ulfs...</td>\n",
              "      <td>en</td>\n",
              "    </tr>\n",
              "    <tr>\n",
              "      <th>669</th>\n",
              "      <td>Eyes of the Calculor</td>\n",
              "      <td>science</td>\n",
              "      <td>Mirrorsun, which orbits earth and prevents el...</td>\n",
              "      <td>en</td>\n",
              "    </tr>\n",
              "  </tbody>\n",
              "</table>\n",
              "</div>\n",
              "    <div class=\"colab-df-buttons\">\n",
              "      \n",
              "  <div class=\"colab-df-container\">\n",
              "    <button class=\"colab-df-convert\" onclick=\"convertToInteractive('df-0b6b9558-9cd6-4879-bd5d-7a3d007df427')\"\n",
              "            title=\"Convert this dataframe to an interactive table.\"\n",
              "            style=\"display:none;\">\n",
              "      \n",
              "  <svg xmlns=\"http://www.w3.org/2000/svg\" height=\"24px\" viewBox=\"0 -960 960 960\">\n",
              "    <path d=\"M120-120v-720h720v720H120Zm60-500h600v-160H180v160Zm220 220h160v-160H400v160Zm0 220h160v-160H400v160ZM180-400h160v-160H180v160Zm440 0h160v-160H620v160ZM180-180h160v-160H180v160Zm440 0h160v-160H620v160Z\"/>\n",
              "  </svg>\n",
              "    </button>\n",
              "    \n",
              "  <style>\n",
              "    .colab-df-container {\n",
              "      display:flex;\n",
              "      gap: 12px;\n",
              "    }\n",
              "\n",
              "    .colab-df-convert {\n",
              "      background-color: #E8F0FE;\n",
              "      border: none;\n",
              "      border-radius: 50%;\n",
              "      cursor: pointer;\n",
              "      display: none;\n",
              "      fill: #1967D2;\n",
              "      height: 32px;\n",
              "      padding: 0 0 0 0;\n",
              "      width: 32px;\n",
              "    }\n",
              "\n",
              "    .colab-df-convert:hover {\n",
              "      background-color: #E2EBFA;\n",
              "      box-shadow: 0px 1px 2px rgba(60, 64, 67, 0.3), 0px 1px 3px 1px rgba(60, 64, 67, 0.15);\n",
              "      fill: #174EA6;\n",
              "    }\n",
              "\n",
              "    .colab-df-buttons div {\n",
              "      margin-bottom: 4px;\n",
              "    }\n",
              "\n",
              "    [theme=dark] .colab-df-convert {\n",
              "      background-color: #3B4455;\n",
              "      fill: #D2E3FC;\n",
              "    }\n",
              "\n",
              "    [theme=dark] .colab-df-convert:hover {\n",
              "      background-color: #434B5C;\n",
              "      box-shadow: 0px 1px 3px 1px rgba(0, 0, 0, 0.15);\n",
              "      filter: drop-shadow(0px 1px 2px rgba(0, 0, 0, 0.3));\n",
              "      fill: #FFFFFF;\n",
              "    }\n",
              "  </style>\n",
              "\n",
              "    <script>\n",
              "      const buttonEl =\n",
              "        document.querySelector('#df-0b6b9558-9cd6-4879-bd5d-7a3d007df427 button.colab-df-convert');\n",
              "      buttonEl.style.display =\n",
              "        google.colab.kernel.accessAllowed ? 'block' : 'none';\n",
              "\n",
              "      async function convertToInteractive(key) {\n",
              "        const element = document.querySelector('#df-0b6b9558-9cd6-4879-bd5d-7a3d007df427');\n",
              "        const dataTable =\n",
              "          await google.colab.kernel.invokeFunction('convertToInteractive',\n",
              "                                                    [key], {});\n",
              "        if (!dataTable) return;\n",
              "\n",
              "        const docLinkHtml = 'Like what you see? Visit the ' +\n",
              "          '<a target=\"_blank\" href=https://colab.research.google.com/notebooks/data_table.ipynb>data table notebook</a>'\n",
              "          + ' to learn more about interactive tables.';\n",
              "        element.innerHTML = '';\n",
              "        dataTable['output_type'] = 'display_data';\n",
              "        await google.colab.output.renderOutput(dataTable, element);\n",
              "        const docLink = document.createElement('div');\n",
              "        docLink.innerHTML = docLinkHtml;\n",
              "        element.appendChild(docLink);\n",
              "      }\n",
              "    </script>\n",
              "  </div>\n",
              "  \n",
              "    </div>\n",
              "  </div>\n",
              "  "
            ]
          },
          "metadata": {},
          "execution_count": 11
        }
      ]
    },
    {
      "cell_type": "code",
      "source": [
        "# remove non-english entries\n",
        "for i in range(0, len(books['language'])):\n",
        "  if books['language'][i] != ('en'):\n",
        "      books.drop(i, inplace = True)"
      ],
      "metadata": {
        "id": "cMffMskyulM9"
      },
      "execution_count": null,
      "outputs": []
    },
    {
      "cell_type": "code",
      "source": [
        "# check new book count\n",
        "books.shape"
      ],
      "metadata": {
        "id": "mEvjIoxK0hoL",
        "colab": {
          "base_uri": "https://localhost:8080/"
        },
        "outputId": "d65f6601-1d90-4002-ed34-a4b596fd8d16"
      },
      "execution_count": null,
      "outputs": [
        {
          "output_type": "execute_result",
          "data": {
            "text/plain": [
              "(4636, 4)"
            ]
          },
          "metadata": {},
          "execution_count": 13
        }
      ]
    },
    {
      "cell_type": "code",
      "source": [
        "books = books.reset_index(drop=True)"
      ],
      "metadata": {
        "id": "eSRyR8jL1qNe"
      },
      "execution_count": null,
      "outputs": []
    },
    {
      "cell_type": "markdown",
      "source": [
        "*Add labels for training and testing*"
      ],
      "metadata": {
        "id": "DF4HD7z-L1sT"
      }
    },
    {
      "cell_type": "code",
      "source": [
        "# convert genre strings to numerical data in a new label column\n",
        "from sklearn.preprocessing import LabelEncoder\n",
        "books['label'] = LabelEncoder().fit_transform(books['genre'])\n",
        "books.sample(10)"
      ],
      "metadata": {
        "id": "Mo8HZ3JubcNB",
        "colab": {
          "base_uri": "https://localhost:8080/",
          "height": 363
        },
        "outputId": "e7415bb5-3dea-4a3e-e504-3099f8210cde"
      },
      "execution_count": null,
      "outputs": [
        {
          "output_type": "execute_result",
          "data": {
            "text/plain": [
              "                            title     genre  \\\n",
              "778     Our Friends from Frolix 8   science   \n",
              "2760                        Cross  thriller   \n",
              "3403      A Brief History of Time   science   \n",
              "210        Crossroads of Twilight   fantasy   \n",
              "4054                       Sister  thriller   \n",
              "4483                      Dracula   fantasy   \n",
              "3158  Nothing But Blackened Teeth    horror   \n",
              "514    Icarus at the Edge of Time   science   \n",
              "3384          Memoirs of a Geisha   romance   \n",
              "2709                     The Fear  thriller   \n",
              "\n",
              "                                                summary language  label  \n",
              "778    In the 22nd Century, the Earth is ruled by th...       en      6  \n",
              "2760   Alex Cross narrates the opening section of th...       en      8  \n",
              "3403  In the ten years since its publication in 1988...       en      6  \n",
              "210    Perrin Aybara continues trying to rescue his ...       en      1  \n",
              "4054  Nothing can break the bond between sisters ......       en      8  \n",
              "4483  You can find an alternative cover edition for ...       en      1  \n",
              "3158  Cassandra Khaw's Nothing But Blackened Teeth i...       en      3  \n",
              "514    The book is a science fiction retelling of Ic...       en      6  \n",
              "3384  A literary sensation and runaway bestseller, t...       en      5  \n",
              "2709   The Fear begins 5 days before Small Sam and T...       en      8  "
            ],
            "text/html": [
              "\n",
              "  <div id=\"df-c97be5b8-fcfa-488a-b9cf-4c1a32e68647\" class=\"colab-df-container\">\n",
              "    <div>\n",
              "<style scoped>\n",
              "    .dataframe tbody tr th:only-of-type {\n",
              "        vertical-align: middle;\n",
              "    }\n",
              "\n",
              "    .dataframe tbody tr th {\n",
              "        vertical-align: top;\n",
              "    }\n",
              "\n",
              "    .dataframe thead th {\n",
              "        text-align: right;\n",
              "    }\n",
              "</style>\n",
              "<table border=\"1\" class=\"dataframe\">\n",
              "  <thead>\n",
              "    <tr style=\"text-align: right;\">\n",
              "      <th></th>\n",
              "      <th>title</th>\n",
              "      <th>genre</th>\n",
              "      <th>summary</th>\n",
              "      <th>language</th>\n",
              "      <th>label</th>\n",
              "    </tr>\n",
              "  </thead>\n",
              "  <tbody>\n",
              "    <tr>\n",
              "      <th>778</th>\n",
              "      <td>Our Friends from Frolix 8</td>\n",
              "      <td>science</td>\n",
              "      <td>In the 22nd Century, the Earth is ruled by th...</td>\n",
              "      <td>en</td>\n",
              "      <td>6</td>\n",
              "    </tr>\n",
              "    <tr>\n",
              "      <th>2760</th>\n",
              "      <td>Cross</td>\n",
              "      <td>thriller</td>\n",
              "      <td>Alex Cross narrates the opening section of th...</td>\n",
              "      <td>en</td>\n",
              "      <td>8</td>\n",
              "    </tr>\n",
              "    <tr>\n",
              "      <th>3403</th>\n",
              "      <td>A Brief History of Time</td>\n",
              "      <td>science</td>\n",
              "      <td>In the ten years since its publication in 1988...</td>\n",
              "      <td>en</td>\n",
              "      <td>6</td>\n",
              "    </tr>\n",
              "    <tr>\n",
              "      <th>210</th>\n",
              "      <td>Crossroads of Twilight</td>\n",
              "      <td>fantasy</td>\n",
              "      <td>Perrin Aybara continues trying to rescue his ...</td>\n",
              "      <td>en</td>\n",
              "      <td>1</td>\n",
              "    </tr>\n",
              "    <tr>\n",
              "      <th>4054</th>\n",
              "      <td>Sister</td>\n",
              "      <td>thriller</td>\n",
              "      <td>Nothing can break the bond between sisters ......</td>\n",
              "      <td>en</td>\n",
              "      <td>8</td>\n",
              "    </tr>\n",
              "    <tr>\n",
              "      <th>4483</th>\n",
              "      <td>Dracula</td>\n",
              "      <td>fantasy</td>\n",
              "      <td>You can find an alternative cover edition for ...</td>\n",
              "      <td>en</td>\n",
              "      <td>1</td>\n",
              "    </tr>\n",
              "    <tr>\n",
              "      <th>3158</th>\n",
              "      <td>Nothing But Blackened Teeth</td>\n",
              "      <td>horror</td>\n",
              "      <td>Cassandra Khaw's Nothing But Blackened Teeth i...</td>\n",
              "      <td>en</td>\n",
              "      <td>3</td>\n",
              "    </tr>\n",
              "    <tr>\n",
              "      <th>514</th>\n",
              "      <td>Icarus at the Edge of Time</td>\n",
              "      <td>science</td>\n",
              "      <td>The book is a science fiction retelling of Ic...</td>\n",
              "      <td>en</td>\n",
              "      <td>6</td>\n",
              "    </tr>\n",
              "    <tr>\n",
              "      <th>3384</th>\n",
              "      <td>Memoirs of a Geisha</td>\n",
              "      <td>romance</td>\n",
              "      <td>A literary sensation and runaway bestseller, t...</td>\n",
              "      <td>en</td>\n",
              "      <td>5</td>\n",
              "    </tr>\n",
              "    <tr>\n",
              "      <th>2709</th>\n",
              "      <td>The Fear</td>\n",
              "      <td>thriller</td>\n",
              "      <td>The Fear begins 5 days before Small Sam and T...</td>\n",
              "      <td>en</td>\n",
              "      <td>8</td>\n",
              "    </tr>\n",
              "  </tbody>\n",
              "</table>\n",
              "</div>\n",
              "    <div class=\"colab-df-buttons\">\n",
              "      \n",
              "  <div class=\"colab-df-container\">\n",
              "    <button class=\"colab-df-convert\" onclick=\"convertToInteractive('df-c97be5b8-fcfa-488a-b9cf-4c1a32e68647')\"\n",
              "            title=\"Convert this dataframe to an interactive table.\"\n",
              "            style=\"display:none;\">\n",
              "      \n",
              "  <svg xmlns=\"http://www.w3.org/2000/svg\" height=\"24px\" viewBox=\"0 -960 960 960\">\n",
              "    <path d=\"M120-120v-720h720v720H120Zm60-500h600v-160H180v160Zm220 220h160v-160H400v160Zm0 220h160v-160H400v160ZM180-400h160v-160H180v160Zm440 0h160v-160H620v160ZM180-180h160v-160H180v160Zm440 0h160v-160H620v160Z\"/>\n",
              "  </svg>\n",
              "    </button>\n",
              "    \n",
              "  <style>\n",
              "    .colab-df-container {\n",
              "      display:flex;\n",
              "      gap: 12px;\n",
              "    }\n",
              "\n",
              "    .colab-df-convert {\n",
              "      background-color: #E8F0FE;\n",
              "      border: none;\n",
              "      border-radius: 50%;\n",
              "      cursor: pointer;\n",
              "      display: none;\n",
              "      fill: #1967D2;\n",
              "      height: 32px;\n",
              "      padding: 0 0 0 0;\n",
              "      width: 32px;\n",
              "    }\n",
              "\n",
              "    .colab-df-convert:hover {\n",
              "      background-color: #E2EBFA;\n",
              "      box-shadow: 0px 1px 2px rgba(60, 64, 67, 0.3), 0px 1px 3px 1px rgba(60, 64, 67, 0.15);\n",
              "      fill: #174EA6;\n",
              "    }\n",
              "\n",
              "    .colab-df-buttons div {\n",
              "      margin-bottom: 4px;\n",
              "    }\n",
              "\n",
              "    [theme=dark] .colab-df-convert {\n",
              "      background-color: #3B4455;\n",
              "      fill: #D2E3FC;\n",
              "    }\n",
              "\n",
              "    [theme=dark] .colab-df-convert:hover {\n",
              "      background-color: #434B5C;\n",
              "      box-shadow: 0px 1px 3px 1px rgba(0, 0, 0, 0.15);\n",
              "      filter: drop-shadow(0px 1px 2px rgba(0, 0, 0, 0.3));\n",
              "      fill: #FFFFFF;\n",
              "    }\n",
              "  </style>\n",
              "\n",
              "    <script>\n",
              "      const buttonEl =\n",
              "        document.querySelector('#df-c97be5b8-fcfa-488a-b9cf-4c1a32e68647 button.colab-df-convert');\n",
              "      buttonEl.style.display =\n",
              "        google.colab.kernel.accessAllowed ? 'block' : 'none';\n",
              "\n",
              "      async function convertToInteractive(key) {\n",
              "        const element = document.querySelector('#df-c97be5b8-fcfa-488a-b9cf-4c1a32e68647');\n",
              "        const dataTable =\n",
              "          await google.colab.kernel.invokeFunction('convertToInteractive',\n",
              "                                                    [key], {});\n",
              "        if (!dataTable) return;\n",
              "\n",
              "        const docLinkHtml = 'Like what you see? Visit the ' +\n",
              "          '<a target=\"_blank\" href=https://colab.research.google.com/notebooks/data_table.ipynb>data table notebook</a>'\n",
              "          + ' to learn more about interactive tables.';\n",
              "        element.innerHTML = '';\n",
              "        dataTable['output_type'] = 'display_data';\n",
              "        await google.colab.output.renderOutput(dataTable, element);\n",
              "        const docLink = document.createElement('div');\n",
              "        docLink.innerHTML = docLinkHtml;\n",
              "        element.appendChild(docLink);\n",
              "      }\n",
              "    </script>\n",
              "  </div>\n",
              "  \n",
              "    </div>\n",
              "  </div>\n",
              "  "
            ]
          },
          "metadata": {},
          "execution_count": 15
        }
      ]
    },
    {
      "cell_type": "markdown",
      "source": [
        "*Remove stopwords, special characters, and turning chars to lower-case*"
      ],
      "metadata": {
        "id": "VxMJCRlUL6VV"
      }
    },
    {
      "cell_type": "code",
      "source": [
        "import re\n",
        "import nltk\n",
        "import string\n",
        "from nltk.corpus import stopwords\n",
        "nltk.download(\"stopwords\")\n",
        "\n",
        "# loading stop words from nltk library\n",
        "stop_words = set(stopwords.words('english'))\n",
        "\n",
        "\n",
        "def preprocessing(total_text):\n",
        "    if type(total_text) is not int:\n",
        "        strings = \"\"\n",
        "        # replace every special char with space\n",
        "        total_text = re.sub('[^a-zA-Z0-9\\n]', ' ', total_text)\n",
        "        # replace multiple spaces with single space\n",
        "        total_text = re.sub('\\s+',' ', total_text)\n",
        "        # converting all the chars into lower-case.\n",
        "        total_text = total_text.lower()\n",
        "\n",
        "        for word in total_text.split():\n",
        "        # if the word is a not a stop word then retain that word from the data\n",
        "            if not word in stop_words:\n",
        "                strings += word + \" \"\n",
        "\n",
        "        return strings\n",
        "\n",
        "#text processing stage.\n",
        "books[\"summary\"] = books[\"summary\"].apply(preprocessing)\n",
        "\n",
        "# Checking data after pre-processing\n",
        "books.sample(5)"
      ],
      "metadata": {
        "id": "jQWRS2koAXnY",
        "colab": {
          "base_uri": "https://localhost:8080/",
          "height": 241
        },
        "outputId": "87814c23-39ab-4c7d-a8bf-d24758a4a455"
      },
      "execution_count": null,
      "outputs": [
        {
          "output_type": "stream",
          "name": "stderr",
          "text": [
            "[nltk_data] Downloading package stopwords to /root/nltk_data...\n",
            "[nltk_data]   Package stopwords is already up-to-date!\n"
          ]
        },
        {
          "output_type": "execute_result",
          "data": {
            "text/plain": [
              "                                                title    genre  \\\n",
              "2385         Spike and Dru: Pretty Maids All in a Row   horror   \n",
              "4236  Blood River: A Journey to Africa's Broken Heart   travel   \n",
              "1162                           The Secret of Chimneys    crime   \n",
              "732              Settling Accounts: Drive to the East  science   \n",
              "1184                                         Simisola    crime   \n",
              "\n",
              "                                                summary language  label  \n",
              "2385  1940 drusilla vampiric birthday spike decides ...       en      3  \n",
              "4236  compulsively readable account journey congo co...       en      9  \n",
              "1162  seven years previously balkan state herzoslova...       en      0  \n",
              "732   title suggests involves world version invasion...       en      6  \n",
              "1184  dr raymond akande wexford new gp one black bri...       en      0  "
            ],
            "text/html": [
              "\n",
              "  <div id=\"df-fac88ddb-0b38-41d0-a7b0-0d892258b97b\" class=\"colab-df-container\">\n",
              "    <div>\n",
              "<style scoped>\n",
              "    .dataframe tbody tr th:only-of-type {\n",
              "        vertical-align: middle;\n",
              "    }\n",
              "\n",
              "    .dataframe tbody tr th {\n",
              "        vertical-align: top;\n",
              "    }\n",
              "\n",
              "    .dataframe thead th {\n",
              "        text-align: right;\n",
              "    }\n",
              "</style>\n",
              "<table border=\"1\" class=\"dataframe\">\n",
              "  <thead>\n",
              "    <tr style=\"text-align: right;\">\n",
              "      <th></th>\n",
              "      <th>title</th>\n",
              "      <th>genre</th>\n",
              "      <th>summary</th>\n",
              "      <th>language</th>\n",
              "      <th>label</th>\n",
              "    </tr>\n",
              "  </thead>\n",
              "  <tbody>\n",
              "    <tr>\n",
              "      <th>2385</th>\n",
              "      <td>Spike and Dru: Pretty Maids All in a Row</td>\n",
              "      <td>horror</td>\n",
              "      <td>1940 drusilla vampiric birthday spike decides ...</td>\n",
              "      <td>en</td>\n",
              "      <td>3</td>\n",
              "    </tr>\n",
              "    <tr>\n",
              "      <th>4236</th>\n",
              "      <td>Blood River: A Journey to Africa's Broken Heart</td>\n",
              "      <td>travel</td>\n",
              "      <td>compulsively readable account journey congo co...</td>\n",
              "      <td>en</td>\n",
              "      <td>9</td>\n",
              "    </tr>\n",
              "    <tr>\n",
              "      <th>1162</th>\n",
              "      <td>The Secret of Chimneys</td>\n",
              "      <td>crime</td>\n",
              "      <td>seven years previously balkan state herzoslova...</td>\n",
              "      <td>en</td>\n",
              "      <td>0</td>\n",
              "    </tr>\n",
              "    <tr>\n",
              "      <th>732</th>\n",
              "      <td>Settling Accounts: Drive to the East</td>\n",
              "      <td>science</td>\n",
              "      <td>title suggests involves world version invasion...</td>\n",
              "      <td>en</td>\n",
              "      <td>6</td>\n",
              "    </tr>\n",
              "    <tr>\n",
              "      <th>1184</th>\n",
              "      <td>Simisola</td>\n",
              "      <td>crime</td>\n",
              "      <td>dr raymond akande wexford new gp one black bri...</td>\n",
              "      <td>en</td>\n",
              "      <td>0</td>\n",
              "    </tr>\n",
              "  </tbody>\n",
              "</table>\n",
              "</div>\n",
              "    <div class=\"colab-df-buttons\">\n",
              "      \n",
              "  <div class=\"colab-df-container\">\n",
              "    <button class=\"colab-df-convert\" onclick=\"convertToInteractive('df-fac88ddb-0b38-41d0-a7b0-0d892258b97b')\"\n",
              "            title=\"Convert this dataframe to an interactive table.\"\n",
              "            style=\"display:none;\">\n",
              "      \n",
              "  <svg xmlns=\"http://www.w3.org/2000/svg\" height=\"24px\" viewBox=\"0 -960 960 960\">\n",
              "    <path d=\"M120-120v-720h720v720H120Zm60-500h600v-160H180v160Zm220 220h160v-160H400v160Zm0 220h160v-160H400v160ZM180-400h160v-160H180v160Zm440 0h160v-160H620v160ZM180-180h160v-160H180v160Zm440 0h160v-160H620v160Z\"/>\n",
              "  </svg>\n",
              "    </button>\n",
              "    \n",
              "  <style>\n",
              "    .colab-df-container {\n",
              "      display:flex;\n",
              "      gap: 12px;\n",
              "    }\n",
              "\n",
              "    .colab-df-convert {\n",
              "      background-color: #E8F0FE;\n",
              "      border: none;\n",
              "      border-radius: 50%;\n",
              "      cursor: pointer;\n",
              "      display: none;\n",
              "      fill: #1967D2;\n",
              "      height: 32px;\n",
              "      padding: 0 0 0 0;\n",
              "      width: 32px;\n",
              "    }\n",
              "\n",
              "    .colab-df-convert:hover {\n",
              "      background-color: #E2EBFA;\n",
              "      box-shadow: 0px 1px 2px rgba(60, 64, 67, 0.3), 0px 1px 3px 1px rgba(60, 64, 67, 0.15);\n",
              "      fill: #174EA6;\n",
              "    }\n",
              "\n",
              "    .colab-df-buttons div {\n",
              "      margin-bottom: 4px;\n",
              "    }\n",
              "\n",
              "    [theme=dark] .colab-df-convert {\n",
              "      background-color: #3B4455;\n",
              "      fill: #D2E3FC;\n",
              "    }\n",
              "\n",
              "    [theme=dark] .colab-df-convert:hover {\n",
              "      background-color: #434B5C;\n",
              "      box-shadow: 0px 1px 3px 1px rgba(0, 0, 0, 0.15);\n",
              "      filter: drop-shadow(0px 1px 2px rgba(0, 0, 0, 0.3));\n",
              "      fill: #FFFFFF;\n",
              "    }\n",
              "  </style>\n",
              "\n",
              "    <script>\n",
              "      const buttonEl =\n",
              "        document.querySelector('#df-fac88ddb-0b38-41d0-a7b0-0d892258b97b button.colab-df-convert');\n",
              "      buttonEl.style.display =\n",
              "        google.colab.kernel.accessAllowed ? 'block' : 'none';\n",
              "\n",
              "      async function convertToInteractive(key) {\n",
              "        const element = document.querySelector('#df-fac88ddb-0b38-41d0-a7b0-0d892258b97b');\n",
              "        const dataTable =\n",
              "          await google.colab.kernel.invokeFunction('convertToInteractive',\n",
              "                                                    [key], {});\n",
              "        if (!dataTable) return;\n",
              "\n",
              "        const docLinkHtml = 'Like what you see? Visit the ' +\n",
              "          '<a target=\"_blank\" href=https://colab.research.google.com/notebooks/data_table.ipynb>data table notebook</a>'\n",
              "          + ' to learn more about interactive tables.';\n",
              "        element.innerHTML = '';\n",
              "        dataTable['output_type'] = 'display_data';\n",
              "        await google.colab.output.renderOutput(dataTable, element);\n",
              "        const docLink = document.createElement('div');\n",
              "        docLink.innerHTML = docLinkHtml;\n",
              "        element.appendChild(docLink);\n",
              "      }\n",
              "    </script>\n",
              "  </div>\n",
              "  \n",
              "    </div>\n",
              "  </div>\n",
              "  "
            ]
          },
          "metadata": {},
          "execution_count": 16
        }
      ]
    },
    {
      "cell_type": "code",
      "source": [
        "# get genres and their corresponding labels in numeric form\n",
        "genre_label = {books['genre'][x]: books['label'][x] for x in range(len(books))}\n",
        "dict(sorted(genre_label.items(), key=lambda x: x[1])) # sort based on labels"
      ],
      "metadata": {
        "id": "MrS4p3t6cMyR",
        "colab": {
          "base_uri": "https://localhost:8080/"
        },
        "outputId": "477a19b2-925d-43af-fdfb-ea4df9af108e"
      },
      "execution_count": null,
      "outputs": [
        {
          "output_type": "execute_result",
          "data": {
            "text/plain": [
              "{'crime': 0,\n",
              " 'fantasy': 1,\n",
              " 'history': 2,\n",
              " 'horror': 3,\n",
              " 'psychology': 4,\n",
              " 'romance': 5,\n",
              " 'science': 6,\n",
              " 'sports': 7,\n",
              " 'thriller': 8,\n",
              " 'travel': 9}"
            ]
          },
          "metadata": {},
          "execution_count": 17
        }
      ]
    },
    {
      "cell_type": "code",
      "source": [
        "# check if label count is correct\n",
        "books['label'].value_counts()"
      ],
      "metadata": {
        "id": "7yYEiiVZW7P5",
        "colab": {
          "base_uri": "https://localhost:8080/",
          "height": 429
        },
        "outputId": "d577584c-386e-4e85-db2d-e66185f9d4ba"
      },
      "execution_count": null,
      "outputs": [
        {
          "output_type": "execute_result",
          "data": {
            "text/plain": [
              "label\n",
              "8    1014\n",
              "1     875\n",
              "6     642\n",
              "2     599\n",
              "3     598\n",
              "0     499\n",
              "5     111\n",
              "7     100\n",
              "9     100\n",
              "4      98\n",
              "Name: count, dtype: int64"
            ],
            "text/html": [
              "<div>\n",
              "<style scoped>\n",
              "    .dataframe tbody tr th:only-of-type {\n",
              "        vertical-align: middle;\n",
              "    }\n",
              "\n",
              "    .dataframe tbody tr th {\n",
              "        vertical-align: top;\n",
              "    }\n",
              "\n",
              "    .dataframe thead th {\n",
              "        text-align: right;\n",
              "    }\n",
              "</style>\n",
              "<table border=\"1\" class=\"dataframe\">\n",
              "  <thead>\n",
              "    <tr style=\"text-align: right;\">\n",
              "      <th></th>\n",
              "      <th>count</th>\n",
              "    </tr>\n",
              "    <tr>\n",
              "      <th>label</th>\n",
              "      <th></th>\n",
              "    </tr>\n",
              "  </thead>\n",
              "  <tbody>\n",
              "    <tr>\n",
              "      <th>8</th>\n",
              "      <td>1014</td>\n",
              "    </tr>\n",
              "    <tr>\n",
              "      <th>1</th>\n",
              "      <td>875</td>\n",
              "    </tr>\n",
              "    <tr>\n",
              "      <th>6</th>\n",
              "      <td>642</td>\n",
              "    </tr>\n",
              "    <tr>\n",
              "      <th>2</th>\n",
              "      <td>599</td>\n",
              "    </tr>\n",
              "    <tr>\n",
              "      <th>3</th>\n",
              "      <td>598</td>\n",
              "    </tr>\n",
              "    <tr>\n",
              "      <th>0</th>\n",
              "      <td>499</td>\n",
              "    </tr>\n",
              "    <tr>\n",
              "      <th>5</th>\n",
              "      <td>111</td>\n",
              "    </tr>\n",
              "    <tr>\n",
              "      <th>7</th>\n",
              "      <td>100</td>\n",
              "    </tr>\n",
              "    <tr>\n",
              "      <th>9</th>\n",
              "      <td>100</td>\n",
              "    </tr>\n",
              "    <tr>\n",
              "      <th>4</th>\n",
              "      <td>98</td>\n",
              "    </tr>\n",
              "  </tbody>\n",
              "</table>\n",
              "</div><br><label><b>dtype:</b> int64</label>"
            ]
          },
          "metadata": {},
          "execution_count": 18
        }
      ]
    },
    {
      "cell_type": "markdown",
      "source": [
        "*Splitting the data set*"
      ],
      "metadata": {
        "id": "_CsOT8luu0En"
      }
    },
    {
      "cell_type": "code",
      "source": [
        "# define X and y\n",
        "X = books.summary\n",
        "y = books.label"
      ],
      "metadata": {
        "id": "VTBI9C1Aj1Og"
      },
      "execution_count": null,
      "outputs": []
    },
    {
      "cell_type": "code",
      "source": [
        "# split X and y into training, validation, and testing sets\n",
        "# use stratifiedshufflesplit for imbalanced data sets\n",
        "from sklearn.model_selection import StratifiedShuffleSplit\n",
        "\n",
        "sss = StratifiedShuffleSplit(n_splits=1, test_size=0.2, random_state=0) # 20% test set\n",
        "for train_val_index, test_index in sss.split(X, y):\n",
        "    X_train_val, X_test = X.iloc[train_val_index], X.iloc[test_index]\n",
        "    y_train_val, y_test = y.iloc[train_val_index], y.iloc[test_index]\n",
        "\n",
        "sss_val = StratifiedShuffleSplit(n_splits=1, test_size=0.125, random_state=0) # 10% validation set, 70% training set\n",
        "for train_index, val_index in sss_val.split(X_train_val, y_train_val):\n",
        "    X_train, X_val = X_train_val.iloc[train_index], X_train_val.iloc[val_index]\n",
        "    y_train, y_val = y_train_val.iloc[train_index], y_train_val.iloc[val_index]"
      ],
      "metadata": {
        "id": "rZsab1nunP8F"
      },
      "execution_count": null,
      "outputs": []
    },
    {
      "cell_type": "markdown",
      "source": [
        "Our data is now divided such that 70% is part of the training set, 10% is part of the validation set, and the remaining 20% is for testing."
      ],
      "metadata": {
        "id": "qtKLDJ3_clHm"
      }
    },
    {
      "cell_type": "markdown",
      "source": [
        "# Vectorization"
      ],
      "metadata": {
        "id": "tIhhX3_5N5Rm"
      }
    },
    {
      "cell_type": "code",
      "source": [
        "# use CountVectorizer for tokenization and further pre-processing\n",
        "from sklearn.feature_extraction.text import CountVectorizer\n",
        "\n",
        "vect = CountVectorizer(ngram_range = (1, 1), min_df = 0.001, max_df = 0.3, max_features = 14000)"
      ],
      "metadata": {
        "id": "6TU47y_zrI-D"
      },
      "execution_count": null,
      "outputs": []
    },
    {
      "cell_type": "markdown",
      "source": [
        "We hand-tuned the parameters for this vectorizer as well as for the models that you will see later. We simply adjusted each parameter one by one until we reached relatively decent metrics."
      ],
      "metadata": {
        "id": "ItkBlOdzdpgG"
      }
    },
    {
      "cell_type": "code",
      "source": [
        "# fit and transform training data\n",
        "X_train_dtm = vect.fit_transform(X_train)"
      ],
      "metadata": {
        "id": "jFN7H8lhreo9"
      },
      "execution_count": null,
      "outputs": []
    },
    {
      "cell_type": "code",
      "source": [
        "# transform validation data\n",
        "X_val_dtm = vect.transform(X_val)"
      ],
      "metadata": {
        "id": "Li7jDEejy6mK"
      },
      "execution_count": null,
      "outputs": []
    },
    {
      "cell_type": "code",
      "source": [
        "# transform test data\n",
        "X_test_dtm = vect.transform(X_test)"
      ],
      "metadata": {
        "id": "jGJUwR-nVRvz"
      },
      "execution_count": null,
      "outputs": []
    },
    {
      "cell_type": "markdown",
      "source": [
        "# Modelling and Tuning"
      ],
      "metadata": {
        "id": "NE42m_6oZYau"
      }
    },
    {
      "cell_type": "markdown",
      "source": [
        "*Random Forest Classifier*"
      ],
      "metadata": {
        "id": "Qtl14X4jd_-K"
      }
    },
    {
      "cell_type": "code",
      "source": [
        "# import and instantiate a Random Forest Classifier model\n",
        "from sklearn.ensemble import RandomForestClassifier\n",
        "\n",
        "# add hand-tuned hyper-parameters\n",
        "rf = RandomForestClassifier(random_state = 0, class_weight = 'balanced', n_estimators = 2000, max_depth = 100, min_samples_leaf = 2, max_features = 10)"
      ],
      "metadata": {
        "id": "F1NquV9TeDMS"
      },
      "execution_count": null,
      "outputs": []
    },
    {
      "cell_type": "code",
      "source": [
        "from sklearn import metrics\n",
        "\n",
        "# train the model\n",
        "rf.fit(X_train_dtm, y_train)\n",
        "\n",
        "# make predictions for both training and validation data for checking\n",
        "y_train_pred = rf.predict(X_train_dtm)\n",
        "y_val_pred = rf.predict(X_val_dtm)\n",
        "\n",
        "# get training accuracy\n",
        "train_accuracy = metrics.accuracy_score(y_train, y_train_pred)\n",
        "print(\"Accuracy on Train Set:\", train_accuracy)\n",
        "\n",
        "# get validation accuracy\n",
        "val_accuracy = metrics.accuracy_score(y_val, y_val_pred)\n",
        "print(\"Accuracy on Val Set:\", val_accuracy)"
      ],
      "metadata": {
        "id": "CaICs0UdeYNX",
        "colab": {
          "base_uri": "https://localhost:8080/"
        },
        "outputId": "34a8eaae-09d4-4349-a00f-d3397f5adf91"
      },
      "execution_count": null,
      "outputs": [
        {
          "output_type": "stream",
          "name": "stdout",
          "text": [
            "Accuracy on Train Set: 0.9226263871763255\n",
            "Accuracy on Val Set: 0.7068965517241379\n"
          ]
        }
      ]
    },
    {
      "cell_type": "markdown",
      "source": [
        "Note that accuracy is not that reliable of a metric when it comes to imbalanced data. Thus, we will also plot a confusion matrix as well a classification report to have more reliable metrics such as f1-score and recall."
      ],
      "metadata": {
        "id": "dwH5cVLMcIqp"
      }
    },
    {
      "cell_type": "code",
      "source": [
        "from scikitplot.metrics import plot_confusion_matrix\n",
        "\n",
        "# plot confusion matrix for better visualization\n",
        "fig, ax = plt.subplots(figsize = (25,  8))\n",
        "ax1 = plot_confusion_matrix(y_val, y_val_pred, ax = ax, cmap = 'Blues')"
      ],
      "metadata": {
        "id": "SaFi3Z47-7tS",
        "colab": {
          "base_uri": "https://localhost:8080/",
          "height": 718
        },
        "outputId": "e4e286f1-b77c-4c43-b81a-6c010f4a4a69"
      },
      "execution_count": null,
      "outputs": [
        {
          "output_type": "display_data",
          "data": {
            "text/plain": [
              "<Figure size 2500x800 with 2 Axes>"
            ],
            "image/png": "[encoded data removed]"
          },
          "metadata": {}
        }
      ]
    },
    {
      "cell_type": "code",
      "source": [
        "from sklearn.metrics import classification_report\n",
        "\n",
        "# add classification report as an addition to accuracy metric\n",
        "print(classification_report(y_val, y_val_pred, digits = 4))"
      ],
      "metadata": {
        "id": "VIXivdZ9rviA",
        "colab": {
          "base_uri": "https://localhost:8080/"
        },
        "outputId": "44753bcd-659b-46d1-d16b-8f58766148bb"
      },
      "execution_count": null,
      "outputs": [
        {
          "output_type": "stream",
          "name": "stdout",
          "text": [
            "              precision    recall  f1-score   support\n",
            "\n",
            "           0     0.5376    1.0000    0.6993        50\n",
            "           1     0.8312    0.7273    0.7758        88\n",
            "           2     0.6610    0.6500    0.6555        60\n",
            "           3     0.7455    0.6833    0.7130        60\n",
            "           4     0.6000    0.9000    0.7200        10\n",
            "           5     0.5556    0.4545    0.5000        11\n",
            "           6     0.7015    0.7344    0.7176        64\n",
            "           7     0.7273    0.8000    0.7619        10\n",
            "           8     0.8382    0.5644    0.6746       101\n",
            "           9     0.8000    0.8000    0.8000        10\n",
            "\n",
            "    accuracy                         0.7069       464\n",
            "   macro avg     0.6998    0.7314    0.7018       464\n",
            "weighted avg     0.7357    0.7069    0.7063       464\n",
            "\n"
          ]
        }
      ]
    },
    {
      "cell_type": "markdown",
      "source": [
        "We see from the confusion matrix that the model is actually having trouble with both the romance (5) and the thriller (8) genres even after hyperparameter tuning. A good chunk of the thriller genre, especially, is being predicted as either crime (0) or history (2)."
      ],
      "metadata": {
        "id": "ktFukH-rYnCr"
      }
    },
    {
      "cell_type": "markdown",
      "source": [
        "*Multinomial Naive Bayes*"
      ],
      "metadata": {
        "id": "evflugiZLs0K"
      }
    },
    {
      "cell_type": "code",
      "source": [
        "# import and instantiate a Multinomial Naive Bayes model\n",
        "from sklearn.naive_bayes import MultinomialNB\n",
        "\n",
        "# add hand-tuned hyper-parameters\n",
        "nb = MultinomialNB(alpha = 0.1, fit_prior = True)"
      ],
      "metadata": {
        "id": "cCKBe8WozBWy"
      },
      "execution_count": null,
      "outputs": []
    },
    {
      "cell_type": "code",
      "source": [
        "# train the model\n",
        "nb.fit(X_train_dtm, y_train)\n",
        "\n",
        "# make predictions for both training and validation data for checking\n",
        "y_train_pred2 = nb.predict(X_train_dtm)\n",
        "y_val_pred2 = nb.predict(X_val_dtm)\n",
        "\n",
        "# get training accuracy\n",
        "train_accuracy = metrics.accuracy_score(y_train, y_train_pred2)\n",
        "print(\"Accuracy on Train Set:\", train_accuracy)\n",
        "\n",
        "# get validation accuracy\n",
        "val_accuracy = metrics.accuracy_score(y_val, y_val_pred2)\n",
        "print(\"Accuracy on Val Set:\", val_accuracy)"
      ],
      "metadata": {
        "id": "Lp8gKRRBfdcR",
        "colab": {
          "base_uri": "https://localhost:8080/"
        },
        "outputId": "74f48db7-6000-4149-e0c7-d76770823d49"
      },
      "execution_count": null,
      "outputs": [
        {
          "output_type": "stream",
          "name": "stdout",
          "text": [
            "Accuracy on Train Set: 0.9429716399506781\n",
            "Accuracy on Val Set: 0.7068965517241379\n"
          ]
        }
      ]
    },
    {
      "cell_type": "code",
      "source": [
        "# plot confusion matrix for better visualization\n",
        "fig, ax = plt.subplots(figsize = (25,  8))\n",
        "ax1 = plot_confusion_matrix(y_val, y_val_pred2, ax = ax, cmap = 'Blues')"
      ],
      "metadata": {
        "id": "mDluvcisf4Of",
        "colab": {
          "base_uri": "https://localhost:8080/",
          "height": 718
        },
        "outputId": "d1809146-63cd-4c91-b3cf-4115f20aea80"
      },
      "execution_count": null,
      "outputs": [
        {
          "output_type": "display_data",
          "data": {
            "text/plain": [
              "<Figure size 2500x800 with 2 Axes>"
            ],
            "image/png": "[encoded data removed]"
          },
          "metadata": {}
        }
      ]
    },
    {
      "cell_type": "code",
      "source": [
        "# add classification report as an addition to accuracy metric\n",
        "print(classification_report(y_val, y_val_pred2, digits = 4))"
      ],
      "metadata": {
        "id": "e_w5ZvihzUKp",
        "colab": {
          "base_uri": "https://localhost:8080/"
        },
        "outputId": "9c206267-3bfd-4360-a19d-45635c975100"
      },
      "execution_count": null,
      "outputs": [
        {
          "output_type": "stream",
          "name": "stdout",
          "text": [
            "              precision    recall  f1-score   support\n",
            "\n",
            "           0     0.6863    0.7000    0.6931        50\n",
            "           1     0.7396    0.8068    0.7717        88\n",
            "           2     0.7872    0.6167    0.6916        60\n",
            "           3     0.6538    0.5667    0.6071        60\n",
            "           4     0.6667    0.8000    0.7273        10\n",
            "           5     0.5000    0.3636    0.4211        11\n",
            "           6     0.7742    0.7500    0.7619        64\n",
            "           7     0.6364    0.7000    0.6667        10\n",
            "           8     0.6786    0.7525    0.7136       101\n",
            "           9     0.6154    0.8000    0.6957        10\n",
            "\n",
            "    accuracy                         0.7069       464\n",
            "   macro avg     0.6738    0.6856    0.6750       464\n",
            "weighted avg     0.7083    0.7069    0.7044       464\n",
            "\n"
          ]
        }
      ]
    },
    {
      "cell_type": "markdown",
      "source": [
        "The naive bayes model, despite still misclassfying a lot of the romance genre, is now better at predicting the thriller genre. However, a noticeable amount of crime (0) and horror (3) genres are also being predicted as thriller (8) too."
      ],
      "metadata": {
        "id": "bYW8da7Zau0x"
      }
    },
    {
      "cell_type": "markdown",
      "source": [
        "# Testing"
      ],
      "metadata": {
        "id": "WXVxDsjlUr7O"
      }
    },
    {
      "cell_type": "markdown",
      "source": [
        "*Random Forest Classifier*"
      ],
      "metadata": {
        "id": "R9tXoeIiV7XL"
      }
    },
    {
      "cell_type": "code",
      "source": [
        "rf = RandomForestClassifier(random_state = 0, class_weight = 'balanced', n_estimators = 2000, max_depth = 100, min_samples_leaf = 2, max_features = 10)\n",
        "rf.fit(X_train_dtm, y_train)\n",
        "\n",
        "# make predictions for test data with tuned model parameters\n",
        "y_test_pred = rf.predict(X_test_dtm)\n",
        "\n",
        "# get test accuracy\n",
        "test_accuracy = metrics.accuracy_score(y_test, y_test_pred)\n",
        "print(\"Accuracy on Test Set:\", test_accuracy)"
      ],
      "metadata": {
        "id": "AvIhHZDOVGDr",
        "colab": {
          "base_uri": "https://localhost:8080/"
        },
        "outputId": "374a815b-4f3c-4d5c-8d0d-0501e035cc7f"
      },
      "execution_count": null,
      "outputs": [
        {
          "output_type": "stream",
          "name": "stdout",
          "text": [
            "Accuracy on Test Set: 0.6831896551724138\n"
          ]
        }
      ]
    },
    {
      "cell_type": "code",
      "source": [
        "# plot confusion matrix for better visualization\n",
        "fig, ax = plt.subplots(figsize = (25,  8))\n",
        "ax1 = plot_confusion_matrix(y_test, y_test_pred, ax = ax, cmap = 'Blues')"
      ],
      "metadata": {
        "id": "ixlWdZYUV3m8",
        "colab": {
          "base_uri": "https://localhost:8080/",
          "height": 718
        },
        "outputId": "1a3031d5-4d88-4036-f2dc-6e4d5579b96d"
      },
      "execution_count": null,
      "outputs": [
        {
          "output_type": "display_data",
          "data": {
            "text/plain": [
              "<Figure size 2500x800 with 2 Axes>"
            ],
            "image/png": "[encoded data removed]"
          },
          "metadata": {}
        }
      ]
    },
    {
      "cell_type": "code",
      "source": [
        "# add classification report as an addition to accuracy metric\n",
        "print(classification_report(y_test, y_test_pred, digits = 4))"
      ],
      "metadata": {
        "id": "ctddbH_HWCOi",
        "colab": {
          "base_uri": "https://localhost:8080/"
        },
        "outputId": "a80dfa09-0a78-44a3-ecbd-9b32f354352e"
      },
      "execution_count": null,
      "outputs": [
        {
          "output_type": "stream",
          "name": "stdout",
          "text": [
            "              precision    recall  f1-score   support\n",
            "\n",
            "           0     0.5482    0.9100    0.6842       100\n",
            "           1     0.8052    0.7086    0.7538       175\n",
            "           2     0.7054    0.7583    0.7309       120\n",
            "           3     0.6759    0.6083    0.6404       120\n",
            "           4     0.6000    0.9000    0.7200        20\n",
            "           5     0.3333    0.5000    0.4000        22\n",
            "           6     0.6870    0.7031    0.6950       128\n",
            "           7     0.7727    0.8500    0.8095        20\n",
            "           8     0.7669    0.5025    0.6071       203\n",
            "           9     0.7727    0.8500    0.8095        20\n",
            "\n",
            "    accuracy                         0.6832       928\n",
            "   macro avg     0.6667    0.7291    0.6850       928\n",
            "weighted avg     0.7062    0.6832    0.6818       928\n",
            "\n"
          ]
        }
      ]
    },
    {
      "cell_type": "markdown",
      "source": [
        "*Multinomial Naive Bayes*"
      ],
      "metadata": {
        "id": "zJ__VlmuXaz6"
      }
    },
    {
      "cell_type": "code",
      "source": [
        "nb = MultinomialNB(alpha = 0.1, fit_prior = True)\n",
        "nb.fit(X_train_dtm, y_train)\n",
        "\n",
        "# make predictions for test data with tuned model parameters\n",
        "y_test_pred2 = nb.predict(X_test_dtm)\n",
        "\n",
        "# get test accuracy\n",
        "test_accuracy = metrics.accuracy_score(y_test, y_test_pred2)\n",
        "print(\"Accuracy on Test Set:\", test_accuracy)"
      ],
      "metadata": {
        "id": "8cgPtyXFWeQl",
        "colab": {
          "base_uri": "https://localhost:8080/"
        },
        "outputId": "0aa3eefc-777d-4eeb-9c98-e45dc23f386a"
      },
      "execution_count": null,
      "outputs": [
        {
          "output_type": "stream",
          "name": "stdout",
          "text": [
            "Accuracy on Test Set: 0.6939655172413793\n"
          ]
        }
      ]
    },
    {
      "cell_type": "code",
      "source": [
        "# plot confusion matrix for better visualization\n",
        "fig, ax = plt.subplots(figsize = (25,  8))\n",
        "ax1 = plot_confusion_matrix(y_test, y_test_pred2, ax = ax, cmap = 'Blues')"
      ],
      "metadata": {
        "id": "fA4u1AvpWeQl",
        "colab": {
          "base_uri": "https://localhost:8080/",
          "height": 718
        },
        "outputId": "90b36394-30f4-4545-fa55-ffa73ce34527"
      },
      "execution_count": null,
      "outputs": [
        {
          "output_type": "display_data",
          "data": {
            "text/plain": [
              "<Figure size 2500x800 with 2 Axes>"
            ],
            "image/png": "[encoded data removed]"
          },
          "metadata": {}
        }
      ]
    },
    {
      "cell_type": "code",
      "source": [
        "# add classification report as an addition to accuracy metric\n",
        "print(classification_report(y_test, y_test_pred2, digits = 4))"
      ],
      "metadata": {
        "id": "pxoiqrQYWeQm",
        "colab": {
          "base_uri": "https://localhost:8080/"
        },
        "outputId": "7fe0c758-23bd-4cb1-fa63-a79cc7d64644"
      },
      "execution_count": null,
      "outputs": [
        {
          "output_type": "stream",
          "name": "stdout",
          "text": [
            "              precision    recall  f1-score   support\n",
            "\n",
            "           0     0.7949    0.6200    0.6966       100\n",
            "           1     0.8000    0.7314    0.7642       175\n",
            "           2     0.7167    0.7167    0.7167       120\n",
            "           3     0.5827    0.6167    0.5992       120\n",
            "           4     0.6071    0.8500    0.7083        20\n",
            "           5     0.3500    0.3182    0.3333        22\n",
            "           6     0.7107    0.6719    0.6908       128\n",
            "           7     0.8947    0.8500    0.8718        20\n",
            "           8     0.6438    0.7389    0.6881       203\n",
            "           9     0.7727    0.8500    0.8095        20\n",
            "\n",
            "    accuracy                         0.6940       928\n",
            "   macro avg     0.6873    0.6964    0.6878       928\n",
            "weighted avg     0.7007    0.6940    0.6945       928\n",
            "\n"
          ]
        }
      ]
    },
    {
      "cell_type": "markdown",
      "source": [
        "We see the same trends of misclassifications in the testing stage that we have seen during validation. Unfortunately, the end results are not as promising as we expected, leaving much room for improvement. Perhaps the data itself is not that good for machine learning, given that a lot of the genres (crime, thriller, horror, etc) have overlapping themes. There may also be different preprocessing approaches we could take that could allow us to have significant improvements down the line."
      ],
      "metadata": {
        "id": "lJQsXbo0eZnS"
      }
    },
    {
      "cell_type": "markdown",
      "source": [
        "# Demo Code"
      ],
      "metadata": {
        "id": "7VFlvjBojAJK"
      }
    },
    {
      "cell_type": "code",
      "source": [
        "import joblib\n",
        "joblib.dump(vect, 'vectorizer.joblib')\n",
        "joblib.dump(nb, 'model.joblib')\n",
        "joblib.dump(rf, 'rf_model.joblib')"
      ],
      "metadata": {
        "id": "UEbbXhLfjI_K",
        "colab": {
          "base_uri": "https://localhost:8080/"
        },
        "outputId": "2f6621be-a410-435f-a543-ee696290d977"
      },
      "execution_count": null,
      "outputs": [
        {
          "output_type": "execute_result",
          "data": {
            "text/plain": [
              "['rf_model.joblib']"
            ]
          },
          "metadata": {},
          "execution_count": 39
        }
      ]
    },
    {
      "cell_type": "code",
      "source": [
        "# Load the vectorizer and model from disk\n",
        "import joblib\n",
        "vect = joblib.load('vectorizer.joblib')\n",
        "nb_model = joblib.load('model.joblib')\n",
        "rf_model = joblib.load('rf_model.joblib')\n",
        "\n",
        "def preprocessing(total_text):\n",
        "    if type(total_text) is not int:\n",
        "        string = \"\"\n",
        "        total_text = re.sub('[^a-zA-Z0-9\\n]', ' ', total_text)\n",
        "        total_text = re.sub('\\s+',' ', total_text)\n",
        "        total_text = total_text.lower()\n",
        "        for word in total_text.split():\n",
        "            if not word in stop_words:\n",
        "                string += word + \" \"\n",
        "        return string\n",
        "\n",
        "def classify_book(summary):\n",
        "    # Identify the language\n",
        "    lang, _ = classify(summary)\n",
        "    if lang != 'en':\n",
        "        return \"The summary is not in English.\"\n",
        "\n",
        "    # Preprocess the summary\n",
        "    processed_summary = preprocessing(summary)\n",
        "\n",
        "    # Vectorize the summary\n",
        "    summary_dtm = vect.transform([processed_summary])\n",
        "\n",
        "    # Predict the genre\n",
        "    predicted_label_nb = nb_model.predict(summary_dtm)\n",
        "    predicted_label_rf = rf_model.predict(summary_dtm)\n",
        "\n",
        "    # Map the label back to the genre\n",
        "    genre_mapping = {0: 'Crime', 1: 'Fantasy', 2: 'History', 3: 'Horror', 4: 'Psychology', 5: 'Romance', 6: 'Science', 7: 'Sports', 8: 'Thriller', 9: 'Travel'}\n",
        "    predicted_genre_nb = genre_mapping[predicted_label_nb[0]]\n",
        "    predicted_genre_rf = genre_mapping[predicted_label_rf[0]]\n",
        "\n",
        "    return predicted_genre_nb, predicted_genre_rf\n",
        "\n",
        "if __name__ == \"__main__\":\n",
        "    book_title = input(\"Enter the book title: \")\n",
        "    book_summary = input(\"Enter the book summary: \")\n",
        "    genre_nb, genre_rf = classify_book(book_summary)\n",
        "    print('\\n')\n",
        "    print(\"Multinomial Naive Bayes\")\n",
        "    print(\"Predicted genre of \" + book_title + \" is \" + genre_nb)\n",
        "    print('\\n')\n",
        "    print(\"Random Forest Classifier\")\n",
        "    print(\"Predicted genre of \" + book_title + \" is \" + genre_rf)"
      ],
      "metadata": {
        "id": "l_tSpKM3jW7B",
        "colab": {
          "base_uri": "https://localhost:8080/"
        },
        "outputId": "376f015d-360a-45e8-ac10-16d5a93a5fd0"
      },
      "execution_count": null,
      "outputs": [
        {
          "output_type": "stream",
          "name": "stdout",
          "text": [
            "Enter the book title: a walk in the woods \n",
            "Enter the book summary: The Appalachian Trail stretches from Georgia to Maine and covers some of the most breathtaking terrain in America—majestic mountains, silent forests, sparking lakes. If you’re going to take a hike, it’s probably the place to go. And Bill Bryson is surely the most entertaining guide you’ll find. He introduces us to the history and ecology of the trail and to some of the other hardy (or just foolhardy) folks he meets along the way—and a couple of bears. Already a classic, A Walk in the Woods will make you long for the great outdoors (or at least a comfortable chair to sit and read in).\n",
            "\n",
            "\n",
            "Multinomial Naive Bayes\n",
            "Predicted genre of a walk in the woods  is Travel\n",
            "\n",
            "\n",
            "Random Forest Classifier\n",
            "Predicted genre of a walk in the woods  is Travel\n"
          ]
        }
      ]
    }
  ]
}